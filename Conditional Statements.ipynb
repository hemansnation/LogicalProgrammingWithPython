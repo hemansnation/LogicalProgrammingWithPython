{
 "cells": [
  {
   "cell_type": "markdown",
   "metadata": {},
   "source": [
    "# Conditional Statements"
   ]
  },
  {
   "cell_type": "code",
   "execution_count": 2,
   "metadata": {},
   "outputs": [
    {
     "name": "stdout",
     "output_type": "stream",
     "text": [
      "Hi\n",
      "Bye\n"
     ]
    }
   ],
   "source": [
    "if True:\n",
    "    print(\"Hi\")\n",
    "    print(\"Bye\")"
   ]
  },
  {
   "cell_type": "code",
   "execution_count": 3,
   "metadata": {},
   "outputs": [],
   "source": [
    "if False:\n",
    "    print(\"Hi\")\n",
    "    print(\"Bye\")"
   ]
  },
  {
   "cell_type": "code",
   "execution_count": 4,
   "metadata": {},
   "outputs": [
    {
     "name": "stdout",
     "output_type": "stream",
     "text": [
      "One\n"
     ]
    }
   ],
   "source": [
    "if 10 == 10:\n",
    "    print(\"One\")"
   ]
  },
  {
   "cell_type": "code",
   "execution_count": 5,
   "metadata": {},
   "outputs": [
    {
     "name": "stdout",
     "output_type": "stream",
     "text": [
      "1\n"
     ]
    }
   ],
   "source": [
    "if 10 > 5:\n",
    "    print(1)\n",
    "else:\n",
    "    print(2)"
   ]
  },
  {
   "cell_type": "code",
   "execution_count": 6,
   "metadata": {},
   "outputs": [
    {
     "name": "stdout",
     "output_type": "stream",
     "text": [
      "2\n"
     ]
    }
   ],
   "source": [
    "if 10 > 15:\n",
    "    print(1)\n",
    "else:\n",
    "    print(2)"
   ]
  },
  {
   "cell_type": "code",
   "execution_count": 7,
   "metadata": {},
   "outputs": [
    {
     "name": "stdout",
     "output_type": "stream",
     "text": [
      "Hi\n"
     ]
    }
   ],
   "source": [
    "a = \"left\"\n",
    "if a==\"left\":\n",
    "    print(\"Hi\")\n",
    "else:\n",
    "    print(\"bye\")"
   ]
  },
  {
   "cell_type": "code",
   "execution_count": 8,
   "metadata": {},
   "outputs": [
    {
     "name": "stdout",
     "output_type": "stream",
     "text": [
      "Goa\n"
     ]
    }
   ],
   "source": [
    "if 8>9:\n",
    "    print(\"Indore\")\n",
    "elif 8<9:\n",
    "    print(\"Goa\")\n",
    "else:\n",
    "    print(\"mumbai\")"
   ]
  },
  {
   "cell_type": "code",
   "execution_count": 9,
   "metadata": {},
   "outputs": [
    {
     "name": "stdout",
     "output_type": "stream",
     "text": [
      "B\n"
     ]
    }
   ],
   "source": [
    "if 10 > 17:\n",
    "    print(\"A\")\n",
    "elif 12>4:\n",
    "    print(\"B\")\n",
    "elif 18 > 15:\n",
    "    print(\"C\")"
   ]
  },
  {
   "cell_type": "code",
   "execution_count": 10,
   "metadata": {},
   "outputs": [
    {
     "ename": "SyntaxError",
     "evalue": "invalid syntax (<ipython-input-10-5f6ba2ad6b3b>, line 1)",
     "output_type": "error",
     "traceback": [
      "\u001b[0;36m  File \u001b[0;32m\"<ipython-input-10-5f6ba2ad6b3b>\"\u001b[0;36m, line \u001b[0;32m1\u001b[0m\n\u001b[0;31m    else:\u001b[0m\n\u001b[0m       ^\u001b[0m\n\u001b[0;31mSyntaxError\u001b[0m\u001b[0;31m:\u001b[0m invalid syntax\n"
     ]
    }
   ],
   "source": [
    "else:\n",
    "    print(1)"
   ]
  },
  {
   "cell_type": "code",
   "execution_count": 11,
   "metadata": {},
   "outputs": [
    {
     "ename": "SyntaxError",
     "evalue": "invalid syntax (<ipython-input-11-d50168e9e42d>, line 1)",
     "output_type": "error",
     "traceback": [
      "\u001b[0;36m  File \u001b[0;32m\"<ipython-input-11-d50168e9e42d>\"\u001b[0;36m, line \u001b[0;32m1\u001b[0m\n\u001b[0;31m    elif 10 == 10:\u001b[0m\n\u001b[0m       ^\u001b[0m\n\u001b[0;31mSyntaxError\u001b[0m\u001b[0;31m:\u001b[0m invalid syntax\n"
     ]
    }
   ],
   "source": [
    "elif 10 == 10:\n",
    "    print(2)"
   ]
  },
  {
   "cell_type": "code",
   "execution_count": 45,
   "metadata": {},
   "outputs": [
    {
     "ename": "SyntaxError",
     "evalue": "invalid syntax (<ipython-input-45-6934ce9eac01>, line 3)",
     "output_type": "error",
     "traceback": [
      "\u001b[0;36m  File \u001b[0;32m\"<ipython-input-45-6934ce9eac01>\"\u001b[0;36m, line \u001b[0;32m3\u001b[0m\n\u001b[0;31m    elif 2==2:\u001b[0m\n\u001b[0m       ^\u001b[0m\n\u001b[0;31mSyntaxError\u001b[0m\u001b[0;31m:\u001b[0m invalid syntax\n"
     ]
    }
   ],
   "source": [
    "if 10 == 10:\n",
    "    if 1==1:\n",
    "        elif 2==2:\n",
    "            elif:\n",
    "                print(1)"
   ]
  },
  {
   "cell_type": "markdown",
   "metadata": {},
   "source": [
    "# Nested If Else"
   ]
  },
  {
   "cell_type": "code",
   "execution_count": 12,
   "metadata": {},
   "outputs": [
    {
     "name": "stdout",
     "output_type": "stream",
     "text": [
      "3\n",
      "7\n"
     ]
    }
   ],
   "source": [
    "n = 7\n",
    "if n>3:\n",
    "    print(\"3\")\n",
    "    if n < 5:\n",
    "        print(\"5\")\n",
    "    else:\n",
    "        print(\"7\")\n",
    "else:\n",
    "    print(\"8\")"
   ]
  },
  {
   "cell_type": "code",
   "execution_count": 13,
   "metadata": {},
   "outputs": [
    {
     "name": "stdout",
     "output_type": "stream",
     "text": [
      "Else\n"
     ]
    }
   ],
   "source": [
    "if 1+1==2:\n",
    "    if 2*2==8:\n",
    "        print(\"If\")\n",
    "    else:\n",
    "        print(\"Else\")\n",
    "else:\n",
    "    print(1)"
   ]
  },
  {
   "cell_type": "markdown",
   "metadata": {},
   "source": [
    "# Ternary Statements"
   ]
  },
  {
   "cell_type": "code",
   "execution_count": 14,
   "metadata": {},
   "outputs": [
    {
     "name": "stdout",
     "output_type": "stream",
     "text": [
      "1\n"
     ]
    }
   ],
   "source": [
    "a = 7\n",
    "b = 1 if a>=5 else 42\n",
    "print(b)"
   ]
  },
  {
   "cell_type": "code",
   "execution_count": 15,
   "metadata": {},
   "outputs": [
    {
     "name": "stdout",
     "output_type": "stream",
     "text": [
      "45\n"
     ]
    }
   ],
   "source": [
    "a = 2\n",
    "b = 4 if a >=5 else 45\n",
    "print(b)"
   ]
  },
  {
   "cell_type": "code",
   "execution_count": 16,
   "metadata": {},
   "outputs": [
    {
     "name": "stdout",
     "output_type": "stream",
     "text": [
      "Logout\n"
     ]
    }
   ],
   "source": [
    "status = 1\n",
    "msg = \"Logout\" if status==1 else \"Login\"\n",
    "print(msg)"
   ]
  },
  {
   "cell_type": "markdown",
   "metadata": {},
   "source": [
    "# What will be the output of the following programs"
   ]
  },
  {
   "cell_type": "code",
   "execution_count": 17,
   "metadata": {},
   "outputs": [
    {
     "name": "stdout",
     "output_type": "stream",
     "text": [
      "y =  5\n"
     ]
    }
   ],
   "source": [
    "x = 0\n",
    "y = 0\n",
    "if x>0:\n",
    "    y = y+1\n",
    "else:\n",
    "    if x<0:\n",
    "        y = y + 2\n",
    "    else:\n",
    "        y = y + 5\n",
    "print(\"y = \", y)"
   ]
  },
  {
   "cell_type": "code",
   "execution_count": 18,
   "metadata": {},
   "outputs": [
    {
     "name": "stdout",
     "output_type": "stream",
     "text": [
      "20\n"
     ]
    }
   ],
   "source": [
    "a = 10\n",
    "b = 20\n",
    "c = 30\n",
    "if a > c:\n",
    "    if a > b:\n",
    "        num = a\n",
    "    else:\n",
    "        num = c\n",
    "else:\n",
    "    if a > c:\n",
    "        num = a\n",
    "    else:\n",
    "        num = b\n",
    "print(num)"
   ]
  },
  {
   "cell_type": "markdown",
   "metadata": {},
   "source": [
    "# Questions\n",
    "**1. WAP to enter a number from user and check it is even or odd?** "
   ]
  },
  {
   "cell_type": "code",
   "execution_count": 23,
   "metadata": {},
   "outputs": [
    {
     "name": "stdout",
     "output_type": "stream",
     "text": [
      "Enter a number : 5\n",
      "Odd\n"
     ]
    }
   ],
   "source": [
    "x = int(input(\"Enter a number : \"))\n",
    "if x%2 == 0:\n",
    "    print(\"Even\")\n",
    "else:\n",
    "    print(\"Odd\")"
   ]
  },
  {
   "cell_type": "code",
   "execution_count": 55,
   "metadata": {},
   "outputs": [
    {
     "name": "stdout",
     "output_type": "stream",
     "text": [
      "Enter a number : 7\n",
      "odd\n"
     ]
    }
   ],
   "source": [
    "x = int(input(\"Enter a number : \"))\n",
    "if (x/2 == int(x/2)):\n",
    "    print(\"even\")\n",
    "else:\n",
    "    print(\"odd\")"
   ]
  },
  {
   "cell_type": "markdown",
   "metadata": {},
   "source": [
    "**2. WAP to enter a number from user and print its character formate.**<br>\n",
    "        1  --  \"One\"<br>\n",
    "        2  --  \"Two\""
   ]
  },
  {
   "cell_type": "code",
   "execution_count": 26,
   "metadata": {},
   "outputs": [
    {
     "name": "stdout",
     "output_type": "stream",
     "text": [
      "Enter a Number : 0\n",
      "Invalid Number\n"
     ]
    }
   ],
   "source": [
    "y = int(input(\"Enter a Number : \"))\n",
    "if y == 1:\n",
    "    print(\"One\")\n",
    "elif y == 2:\n",
    "    print(\"Two\")\n",
    "elif y == 3:\n",
    "    print(\"Three\")\n",
    "elif y == 4:\n",
    "    print(\"Four\")\n",
    "elif y == 5:\n",
    "    print(\"Five\")\n",
    "else:\n",
    "    print(\"Invalid Number\")"
   ]
  },
  {
   "cell_type": "markdown",
   "metadata": {},
   "source": [
    "**3. WAP to enter a character from user and check it is vowel or consonant.**"
   ]
  },
  {
   "cell_type": "code",
   "execution_count": 29,
   "metadata": {},
   "outputs": [
    {
     "name": "stdout",
     "output_type": "stream",
     "text": [
      "Enter a character : x\n",
      "Consonant\n"
     ]
    }
   ],
   "source": [
    "a = input(\"Enter a character : \")\n",
    "if a == 'a':\n",
    "    print(\"vowel\")\n",
    "elif a == 'e':\n",
    "    print(\"vowel\")\n",
    "elif a == 'i':\n",
    "    print(\"vowel\")\n",
    "elif a == 'o':\n",
    "    print(\"vowel\")\n",
    "elif a == 'u':\n",
    "    print(\"vowel\")\n",
    "else:\n",
    "    print(\"Consonant\")"
   ]
  },
  {
   "cell_type": "code",
   "execution_count": 31,
   "metadata": {},
   "outputs": [
    {
     "name": "stdout",
     "output_type": "stream",
     "text": [
      "Enter a character : b\n",
      "Consonant\n"
     ]
    }
   ],
   "source": [
    "a = input(\"Enter a character : \")\n",
    "if a == 'a' or a=='e' or a=='i' or a=='o' or a=='u':\n",
    "    print(\"vowel\")\n",
    "else:\n",
    "    print(\"Consonant\")"
   ]
  },
  {
   "cell_type": "markdown",
   "metadata": {},
   "source": [
    "**4. WAP to enter length and breadth from user and check it is square or not.**"
   ]
  },
  {
   "cell_type": "code",
   "execution_count": 33,
   "metadata": {},
   "outputs": [
    {
     "name": "stdout",
     "output_type": "stream",
     "text": [
      "Enter Length : 5\n",
      "Enter Breadth : 4\n",
      "Its not a Square\n"
     ]
    }
   ],
   "source": [
    "x = int(input(\"Enter Length : \"))\n",
    "y = int(input(\"Enter Breadth : \"))\n",
    "if x == y:\n",
    "    print(\"Its a Square\")\n",
    "else:\n",
    "    print(\"Its not a Square\")"
   ]
  },
  {
   "cell_type": "markdown",
   "metadata": {},
   "source": [
    "**5. Take two int values from user and print greatest among them.**"
   ]
  },
  {
   "cell_type": "code",
   "execution_count": 36,
   "metadata": {},
   "outputs": [
    {
     "name": "stdout",
     "output_type": "stream",
     "text": [
      "Enter a number for x : 10\n",
      "Enter a number for y : 10\n",
      "Y is Greater\n"
     ]
    }
   ],
   "source": [
    "x = int(input(\"Enter a number for x : \"))\n",
    "y = int(input(\"Enter a number for y : \"))\n",
    "if x > y:\n",
    "    print(\"X is Greater\")\n",
    "else:\n",
    "    print(\"Y is Greater\")"
   ]
  },
  {
   "cell_type": "code",
   "execution_count": 37,
   "metadata": {},
   "outputs": [
    {
     "name": "stdout",
     "output_type": "stream",
     "text": [
      "Enter a number for x : 10\n",
      "Enter a number for y : 10\n",
      "Both  are equal\n"
     ]
    }
   ],
   "source": [
    "x = int(input(\"Enter a number for x : \"))\n",
    "y = int(input(\"Enter a number for y : \"))\n",
    "if x > y:\n",
    "    print(\"X is Greater\")\n",
    "elif y > x:\n",
    "    print(\"Y is Greater\")\n",
    "else:\n",
    "    print(\"Both are equal\")"
   ]
  },
  {
   "cell_type": "markdown",
   "metadata": {},
   "source": [
    "**6. WAP to enter a number from user and print its absolute value.**"
   ]
  },
  {
   "cell_type": "code",
   "execution_count": 40,
   "metadata": {},
   "outputs": [
    {
     "name": "stdout",
     "output_type": "stream",
     "text": [
      "Enter a number : 0\n",
      "0\n"
     ]
    }
   ],
   "source": [
    "x = int(input(\"Enter a number : \"))\n",
    "if x < 0:\n",
    "    print(x*-1)\n",
    "else:\n",
    "    print(x)"
   ]
  },
  {
   "cell_type": "markdown",
   "metadata": {},
   "source": [
    "**7. A student will not be allowed to sit in exam if his/her attendence is less than 75%.\n",
    "Take following input from user: <br><br>\n",
    "        Number of classes held<br>\n",
    "        Number of classes attended.<br><br>\n",
    "And print percentage of class attended and Is student is allowed to sit in exam or not.**"
   ]
  },
  {
   "cell_type": "code",
   "execution_count": 43,
   "metadata": {},
   "outputs": [
    {
     "name": "stdout",
     "output_type": "stream",
     "text": [
      "Number of classes held : 100\n",
      "Number of classes attended : 85\n",
      "Percentage =  85.0\n",
      "You are allowed in Exam\n"
     ]
    }
   ],
   "source": [
    "x = int(input(\"Number of classes held : \"))\n",
    "y = int(input(\"Number of classes attended : \"))\n",
    "p = (y/float(x))*100\n",
    "print(\"Percentage = \", p)\n",
    "if p > 75:\n",
    "    print(\"You are allowed in Exam\")\n",
    "else:\n",
    "    print(\"You are not allowed in Exam\")"
   ]
  },
  {
   "cell_type": "markdown",
   "metadata": {},
   "source": [
    "# Do It Yourself"
   ]
  },
  {
   "cell_type": "markdown",
   "metadata": {},
   "source": [
    "**1. WAP to enter a year from user and check it is a leap year or not.**\n",
    "\n",
    "**2. WAP to enter input of age of 3 people from user and determine oldest and youngest among them.**"
   ]
  },
  {
   "cell_type": "code",
   "execution_count": null,
   "metadata": {},
   "outputs": [],
   "source": []
  }
 ],
 "metadata": {
  "kernelspec": {
   "display_name": "Python 3",
   "language": "python",
   "name": "python3"
  },
  "language_info": {
   "codemirror_mode": {
    "name": "ipython",
    "version": 3
   },
   "file_extension": ".py",
   "mimetype": "text/x-python",
   "name": "python",
   "nbconvert_exporter": "python",
   "pygments_lexer": "ipython3",
   "version": "3.7.6"
  }
 },
 "nbformat": 4,
 "nbformat_minor": 4
}
