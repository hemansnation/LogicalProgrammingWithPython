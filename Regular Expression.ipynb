{
 "cells": [
  {
   "cell_type": "markdown",
   "metadata": {},
   "source": [
    "# Regular Expression\n",
    "regex"
   ]
  },
  {
   "cell_type": "code",
   "execution_count": null,
   "metadata": {},
   "outputs": [],
   "source": [
    "x + y + 2z = 0"
   ]
  },
  {
   "cell_type": "code",
   "execution_count": 2,
   "metadata": {},
   "outputs": [
    {
     "name": "stdout",
     "output_type": "stream",
     "text": [
      "Indore\n"
     ]
    }
   ],
   "source": [
    "raw = \"Indore\"\n",
    "print(raw)"
   ]
  },
  {
   "cell_type": "markdown",
   "metadata": {},
   "source": [
    "# re\n",
    "re.py"
   ]
  },
  {
   "cell_type": "code",
   "execution_count": 3,
   "metadata": {},
   "outputs": [
    {
     "name": "stdout",
     "output_type": "stream",
     "text": [
      "Match\n"
     ]
    }
   ],
   "source": [
    "import re\n",
    "\n",
    "p = \"Indore\"\n",
    "\n",
    "if re.match(p,\"Indore is best\"):\n",
    "    print(\"Match\")\n",
    "else:\n",
    "    print(\"Not Match\")"
   ]
  },
  {
   "cell_type": "code",
   "execution_count": 4,
   "metadata": {},
   "outputs": [
    {
     "name": "stdout",
     "output_type": "stream",
     "text": [
      "Not Match\n"
     ]
    }
   ],
   "source": [
    "import re\n",
    "\n",
    "p = \"Indore\"\n",
    "\n",
    "if re.match(p,\"indore is best\"):\n",
    "    print(\"Match\")\n",
    "else:\n",
    "    print(\"Not Match\")"
   ]
  },
  {
   "cell_type": "code",
   "execution_count": 5,
   "metadata": {},
   "outputs": [
    {
     "name": "stdout",
     "output_type": "stream",
     "text": [
      "Not Match\n"
     ]
    }
   ],
   "source": [
    "import re\n",
    "\n",
    "p = \"Indore\"\n",
    "\n",
    "if re.match(p,\"Best is Indore\"):\n",
    "    print(\"Match\")\n",
    "else:\n",
    "    print(\"Not Match\")"
   ]
  },
  {
   "cell_type": "code",
   "execution_count": 8,
   "metadata": {},
   "outputs": [
    {
     "name": "stdout",
     "output_type": "stream",
     "text": [
      "<re.Match object; span=(0, 6), match='Indore'>\n"
     ]
    }
   ],
   "source": [
    "print(re.match(p,\"Indore is\"))"
   ]
  },
  {
   "cell_type": "markdown",
   "metadata": {},
   "source": [
    "## search"
   ]
  },
  {
   "cell_type": "code",
   "execution_count": 10,
   "metadata": {},
   "outputs": [
    {
     "name": "stdout",
     "output_type": "stream",
     "text": [
      "No match\n",
      "Match\n"
     ]
    }
   ],
   "source": [
    "import re\n",
    "\n",
    "pattern = \"india\"\n",
    "\n",
    "if re.match(pattern, \"The india is the best.\"):\n",
    "    print(\"Match\")\n",
    "else:\n",
    "    print(\"No match\")\n",
    "    \n",
    "if re.search(pattern, \"The india is the best.\"):\n",
    "    print(\"Match\")\n",
    "else:\n",
    "    print(\"No match\")"
   ]
  },
  {
   "cell_type": "code",
   "execution_count": 11,
   "metadata": {},
   "outputs": [
    {
     "name": "stdout",
     "output_type": "stream",
     "text": [
      "No match\n"
     ]
    }
   ],
   "source": [
    "if re.search(pattern, \"The India is the best.\"):\n",
    "    print(\"Match\")\n",
    "else:\n",
    "    print(\"No match\")"
   ]
  },
  {
   "cell_type": "markdown",
   "metadata": {},
   "source": [
    "## findall"
   ]
  },
  {
   "cell_type": "code",
   "execution_count": 13,
   "metadata": {},
   "outputs": [
    {
     "name": "stdout",
     "output_type": "stream",
     "text": [
      "['india']\n"
     ]
    }
   ],
   "source": [
    "print(re.findall(pattern, \"The india is the best.\"))"
   ]
  },
  {
   "cell_type": "code",
   "execution_count": 14,
   "metadata": {},
   "outputs": [
    {
     "name": "stdout",
     "output_type": "stream",
     "text": [
      "['india', 'india']\n"
     ]
    }
   ],
   "source": [
    "print(re.findall(pattern, \"The india is the best. india have cow.\"))"
   ]
  },
  {
   "cell_type": "markdown",
   "metadata": {},
   "source": [
    "### group"
   ]
  },
  {
   "cell_type": "code",
   "execution_count": 16,
   "metadata": {},
   "outputs": [
    {
     "name": "stdout",
     "output_type": "stream",
     "text": [
      "<re.Match object; span=(4, 7), match='goa'>\n",
      "goa\n"
     ]
    }
   ],
   "source": [
    "p = \"goa\"\n",
    "\n",
    "match = re.search(p,\"The goa is the smallest. goa\")\n",
    "print(match)\n",
    "\n",
    "if match:\n",
    "    print(match.group())"
   ]
  },
  {
   "cell_type": "markdown",
   "metadata": {},
   "source": [
    "### start"
   ]
  },
  {
   "cell_type": "code",
   "execution_count": 17,
   "metadata": {},
   "outputs": [
    {
     "name": "stdout",
     "output_type": "stream",
     "text": [
      "4\n"
     ]
    }
   ],
   "source": [
    "if match:\n",
    "    print(match.start())"
   ]
  },
  {
   "cell_type": "markdown",
   "metadata": {},
   "source": [
    "### end"
   ]
  },
  {
   "cell_type": "code",
   "execution_count": 18,
   "metadata": {},
   "outputs": [
    {
     "name": "stdout",
     "output_type": "stream",
     "text": [
      "7\n"
     ]
    }
   ],
   "source": [
    "if match:\n",
    "    print(match.end())"
   ]
  },
  {
   "cell_type": "markdown",
   "metadata": {},
   "source": [
    "### span"
   ]
  },
  {
   "cell_type": "code",
   "execution_count": 19,
   "metadata": {},
   "outputs": [
    {
     "name": "stdout",
     "output_type": "stream",
     "text": [
      "(4, 7)\n"
     ]
    }
   ],
   "source": [
    "if match:\n",
    "    print(match.span())"
   ]
  },
  {
   "cell_type": "markdown",
   "metadata": {},
   "source": [
    "## sub\n",
    "for substitution"
   ]
  },
  {
   "cell_type": "code",
   "execution_count": 20,
   "metadata": {},
   "outputs": [
    {
     "name": "stdout",
     "output_type": "stream",
     "text": [
      "His name is Rohit, oye Rohit\n"
     ]
    }
   ],
   "source": [
    "import re\n",
    "\n",
    "s = \"His name is Virat, oye Virat\"\n",
    "\n",
    "p = \"Virat\"\n",
    "\n",
    "newstring = re.sub(p, \"Rohit\", s)\n",
    "\n",
    "print(newstring)"
   ]
  },
  {
   "cell_type": "code",
   "execution_count": 21,
   "metadata": {},
   "outputs": [
    {
     "name": "stdout",
     "output_type": "stream",
     "text": [
      "His name is Virat, oye Virat\n"
     ]
    }
   ],
   "source": [
    "import re\n",
    "\n",
    "s = \"His name is Virat, oye Virat\"\n",
    "\n",
    "p = \"virat\"\n",
    "\n",
    "newstring = re.sub(p, \"Rohit\", s)\n",
    "\n",
    "print(newstring)"
   ]
  },
  {
   "cell_type": "markdown",
   "metadata": {},
   "source": [
    "# Meta Characters\n",
    "\n",
    "**1. dot ( . )**"
   ]
  },
  {
   "cell_type": "code",
   "execution_count": 22,
   "metadata": {},
   "outputs": [
    {
     "name": "stdout",
     "output_type": "stream",
     "text": [
      "1\n",
      "2\n"
     ]
    }
   ],
   "source": [
    "import re\n",
    "\n",
    "p = \"gr.y\"\n",
    "\n",
    "if re.match(p,\"gray\"):\n",
    "    print(1)\n",
    "\n",
    "if re.match(p,\"grey\"):\n",
    "    print(2)\n",
    "    \n",
    "if re.match(p,\"blue\"):\n",
    "    print(3)"
   ]
  },
  {
   "cell_type": "code",
   "execution_count": 23,
   "metadata": {},
   "outputs": [
    {
     "name": "stdout",
     "output_type": "stream",
     "text": [
      "1\n",
      "2\n"
     ]
    }
   ],
   "source": [
    "import re\n",
    "\n",
    "p = \"g..y\"\n",
    "\n",
    "if re.match(p,\"gray\"):\n",
    "    print(1)\n",
    "\n",
    "if re.match(p,\"grey\"):\n",
    "    print(2)\n",
    "    \n",
    "if re.match(p,\"gluuy\"):\n",
    "    print(3)"
   ]
  },
  {
   "cell_type": "markdown",
   "metadata": {},
   "source": [
    "**2. start ^**"
   ]
  },
  {
   "cell_type": "code",
   "execution_count": 24,
   "metadata": {},
   "outputs": [
    {
     "name": "stdout",
     "output_type": "stream",
     "text": [
      "4\n",
      "5\n"
     ]
    }
   ],
   "source": [
    "p = \"^gr.y\"\n",
    "if re.match(p,\"gluy\"):\n",
    "    print(3)\n",
    "if re.match(p,\"gruy\"):\n",
    "    print(4)\n",
    "if re.match(p,\"grayt\"):\n",
    "    print(5)"
   ]
  },
  {
   "cell_type": "markdown",
   "metadata": {},
   "source": [
    "**3. end $**"
   ]
  },
  {
   "cell_type": "code",
   "execution_count": 25,
   "metadata": {},
   "outputs": [
    {
     "name": "stdout",
     "output_type": "stream",
     "text": [
      "4\n"
     ]
    }
   ],
   "source": [
    "p = \"^gr.y$\"\n",
    "if re.match(p,\"gluy\"):\n",
    "    print(3)\n",
    "if re.match(p,\"gruy\"):\n",
    "    print(4)\n",
    "if re.match(p,\"grayt\"):\n",
    "    print(5)"
   ]
  },
  {
   "cell_type": "code",
   "execution_count": 27,
   "metadata": {},
   "outputs": [
    {
     "name": "stdout",
     "output_type": "stream",
     "text": [
      "3\n",
      "4\n"
     ]
    }
   ],
   "source": [
    "p = \"....$\"\n",
    "if re.match(p,\"gluy\"):\n",
    "    print(3)\n",
    "if re.match(p,\"gruy\"):\n",
    "    print(4)\n",
    "if re.match(p,\"grayt\"):\n",
    "    print(5)"
   ]
  },
  {
   "cell_type": "markdown",
   "metadata": {},
   "source": [
    "## Character Classes"
   ]
  },
  {
   "cell_type": "code",
   "execution_count": 28,
   "metadata": {},
   "outputs": [
    {
     "name": "stdout",
     "output_type": "stream",
     "text": [
      "1\n",
      "2\n"
     ]
    }
   ],
   "source": [
    "import re\n",
    "\n",
    "p = \"[aeiou]\"\n",
    "\n",
    "if re.search(p,\"grey\"):\n",
    "    print(1)\n",
    "\n",
    "if re.search(p,\"qwertyuiop\"):\n",
    "    print(2)\n",
    "\n",
    "if re.search(p,\"rhythms\"):\n",
    "    print(3)"
   ]
  },
  {
   "cell_type": "code",
   "execution_count": 29,
   "metadata": {},
   "outputs": [
    {
     "name": "stdout",
     "output_type": "stream",
     "text": [
      "1\n",
      "2\n"
     ]
    }
   ],
   "source": [
    "import re\n",
    "\n",
    "p = \"[a-k]\"\n",
    "\n",
    "if re.search(p,\"grey\"):\n",
    "    print(1)\n",
    "\n",
    "if re.search(p,\"qwertyuiop\"):\n",
    "    print(2)\n",
    "\n",
    "if re.search(p,\"rytms\"):\n",
    "    print(3)"
   ]
  },
  {
   "cell_type": "code",
   "execution_count": 30,
   "metadata": {},
   "outputs": [
    {
     "name": "stdout",
     "output_type": "stream",
     "text": [
      "1\n",
      "2\n",
      "3\n"
     ]
    }
   ],
   "source": [
    "import re\n",
    "\n",
    "p = \"[A-Za-z]\"\n",
    "\n",
    "if re.search(p,\"grey\"):\n",
    "    print(1)\n",
    "\n",
    "if re.search(p,\"qwertyuiop\"):\n",
    "    print(2)\n",
    "\n",
    "if re.search(p,\"rytms\"):\n",
    "    print(3)"
   ]
  },
  {
   "cell_type": "code",
   "execution_count": 32,
   "metadata": {},
   "outputs": [
    {
     "name": "stdout",
     "output_type": "stream",
     "text": [
      "1\n",
      "2\n",
      "3\n"
     ]
    }
   ],
   "source": [
    "import re\n",
    "\n",
    "p = \"[0-9]\"\n",
    "\n",
    "if re.search(p,\"gr4ey\"):\n",
    "    print(1)\n",
    "\n",
    "if re.search(p,\"qw2ertyu7iop\"):\n",
    "    print(2)\n",
    "\n",
    "if re.search(p,\"ry17tms\"):\n",
    "    print(3)"
   ]
  },
  {
   "cell_type": "code",
   "execution_count": 37,
   "metadata": {},
   "outputs": [
    {
     "name": "stdout",
     "output_type": "stream",
     "text": [
      "1\n",
      "2\n"
     ]
    }
   ],
   "source": [
    "import re\n",
    "\n",
    "p = \"[A-Z][A-Z][0-9]\"\n",
    "\n",
    "if re.search(p,\"GR4y\"):\n",
    "    print(1)\n",
    "\n",
    "if re.search(p,\"QEE2wertyuiop\"):\n",
    "    print(2)\n",
    "\n",
    "if re.search(p,\"rytms\"):\n",
    "    print(3)"
   ]
  },
  {
   "cell_type": "code",
   "execution_count": 38,
   "metadata": {},
   "outputs": [
    {
     "name": "stdout",
     "output_type": "stream",
     "text": [
      "1\n"
     ]
    }
   ],
   "source": [
    "import re\n",
    "\n",
    "p = \"^[A-Z][A-Z][0-9]\"\n",
    "\n",
    "if re.search(p,\"GR4y\"):\n",
    "    print(1)\n",
    "\n",
    "if re.search(p,\"QEE2wertyuiop\"):\n",
    "    print(2)\n",
    "\n",
    "if re.search(p,\"rytms\"):\n",
    "    print(3)"
   ]
  },
  {
   "cell_type": "code",
   "execution_count": 41,
   "metadata": {},
   "outputs": [
    {
     "name": "stdout",
     "output_type": "stream",
     "text": [
      "1\n"
     ]
    }
   ],
   "source": [
    "import re\n",
    "\n",
    "p = \"[$][A-Z][0-9]$\"\n",
    "\n",
    "if re.search(p,\"$R4\"):\n",
    "    print(1)\n",
    "\n",
    "if re.search(p,\"QEE2wertyuiop\"):\n",
    "    print(2)\n",
    "\n",
    "if re.search(p,\"rytms\"):\n",
    "    print(3)"
   ]
  },
  {
   "cell_type": "code",
   "execution_count": null,
   "metadata": {},
   "outputs": [],
   "source": []
  }
 ],
 "metadata": {
  "kernelspec": {
   "display_name": "Python 3",
   "language": "python",
   "name": "python3"
  },
  "language_info": {
   "codemirror_mode": {
    "name": "ipython",
    "version": 3
   },
   "file_extension": ".py",
   "mimetype": "text/x-python",
   "name": "python",
   "nbconvert_exporter": "python",
   "pygments_lexer": "ipython3",
   "version": "3.7.6"
  }
 },
 "nbformat": 4,
 "nbformat_minor": 4
}
