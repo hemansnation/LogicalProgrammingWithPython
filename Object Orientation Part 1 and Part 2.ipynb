{
 "cells": [
  {
   "cell_type": "markdown",
   "metadata": {},
   "source": [
    "# Object Oriented Programming\n",
    "\n",
    "7 properties of OOPs\n",
    "\n",
    "1. Class\n",
    "            Updated version of structure (struct --  C programming)\n",
    "            Collection of variables and methods.\n",
    "            class is a blueprint.\n",
    "            \n",
    "2. Object\n",
    "            Run time or real time entity.\n",
    "            hash code - id()\n",
    "            a = 10 # id(a)\n",
    "            \n",
    "3. Abstraction and encapsulation\n",
    "            Abstraction - Showing only essential features without showing any background details.\n",
    "            Encapsulation - Wrapping up of data in a single unit.\n",
    "            \n",
    "4. Inheritance\n",
    "            Acquiring properties of one class into another.\n",
    "            Code reusability.\n",
    "            - Single Level\n",
    "            - Multilevel\n",
    "            - Hierarchical\n",
    "            - Multiple\n",
    "            - Hybride\n",
    "            \n",
    "5. Polymorphism\n",
    "            - Method Overloading\n",
    "            - Method Overriding\n",
    "            add()\n",
    "            add(a,b)\n",
    "            add(a,b,c)\n",
    "            add()\n",
    "            \n",
    "6. Dynamic Memory Allocation\n",
    "            Run time memory allocation\n",
    "            Late Binding\n",
    "            Dynamic Binding\n",
    "            \n",
    "7. Message Passing\n",
    "            Communication between objects."
   ]
  },
  {
   "cell_type": "code",
   "execution_count": null,
   "metadata": {},
   "outputs": [],
   "source": [
    "#self --> current object"
   ]
  },
  {
   "cell_type": "code",
   "execution_count": 6,
   "metadata": {},
   "outputs": [
    {
     "name": "stdout",
     "output_type": "stream",
     "text": [
      "Batting\n"
     ]
    }
   ],
   "source": [
    "class Cricket:\n",
    "    def bat(self):\n",
    "        print(\"Batting\")\n",
    "    \n",
    "c = Cricket() # generate id\n",
    "\n",
    "c.bat()"
   ]
  },
  {
   "cell_type": "code",
   "execution_count": 7,
   "metadata": {},
   "outputs": [
    {
     "name": "stdout",
     "output_type": "stream",
     "text": [
      "<__main__.Cricket object at 0x7fedd9023c10>\n"
     ]
    }
   ],
   "source": [
    "print(c)"
   ]
  },
  {
   "cell_type": "code",
   "execution_count": 8,
   "metadata": {},
   "outputs": [
    {
     "name": "stdout",
     "output_type": "stream",
     "text": [
      "<__main__.Cricket object at 0x7fedd9068a90>\n"
     ]
    }
   ],
   "source": [
    "print(Cricket())"
   ]
  },
  {
   "cell_type": "code",
   "execution_count": 9,
   "metadata": {},
   "outputs": [
    {
     "name": "stdout",
     "output_type": "stream",
     "text": [
      "4\n"
     ]
    }
   ],
   "source": [
    "class Football:\n",
    "    def goal(self,x):\n",
    "        self.s = x\n",
    "       #  f.go  = 4\n",
    "    \n",
    "    def display(self):\n",
    "        print(self.s)\n",
    "        \n",
    "f = Football()\n",
    "\n",
    "f.goal(4)\n",
    "f.display()"
   ]
  },
  {
   "cell_type": "code",
   "execution_count": 10,
   "metadata": {},
   "outputs": [],
   "source": [
    "r = Football()\n",
    "r.goal(5)"
   ]
  },
  {
   "cell_type": "code",
   "execution_count": 11,
   "metadata": {},
   "outputs": [
    {
     "name": "stdout",
     "output_type": "stream",
     "text": [
      "5\n"
     ]
    }
   ],
   "source": [
    "r.display()"
   ]
  },
  {
   "cell_type": "code",
   "execution_count": 12,
   "metadata": {},
   "outputs": [
    {
     "name": "stdout",
     "output_type": "stream",
     "text": [
      "4\n"
     ]
    }
   ],
   "source": [
    "f.display()"
   ]
  },
  {
   "cell_type": "code",
   "execution_count": 16,
   "metadata": {},
   "outputs": [],
   "source": [
    "def add(x):\n",
    "    print(x)\n",
    "    "
   ]
  },
  {
   "cell_type": "code",
   "execution_count": 17,
   "metadata": {},
   "outputs": [],
   "source": [
    "def add():\n",
    "    print(\"Hello\")"
   ]
  },
  {
   "cell_type": "code",
   "execution_count": 19,
   "metadata": {},
   "outputs": [],
   "source": [
    "def add():\n",
    "    print(\"Bye\")"
   ]
  },
  {
   "cell_type": "code",
   "execution_count": 20,
   "metadata": {},
   "outputs": [
    {
     "name": "stdout",
     "output_type": "stream",
     "text": [
      "Bye\n"
     ]
    }
   ],
   "source": [
    "add()"
   ]
  },
  {
   "cell_type": "code",
   "execution_count": 1,
   "metadata": {},
   "outputs": [
    {
     "name": "stdout",
     "output_type": "stream",
     "text": [
      "94267654112288\n",
      "<class 'int'>\n",
      "94267654112288\n"
     ]
    }
   ],
   "source": [
    "a = 10\n",
    "print(id(a))\n",
    "print(type(a))\n",
    "print(id(10))"
   ]
  },
  {
   "cell_type": "code",
   "execution_count": 4,
   "metadata": {},
   "outputs": [
    {
     "name": "stdout",
     "output_type": "stream",
     "text": [
      "94267654115168\n",
      "<class 'int'>\n",
      "94267654115168\n"
     ]
    }
   ],
   "source": [
    "b = 100\n",
    "a = b\n",
    "print(id(b))\n",
    "print(type(b))\n",
    "print(id(a))"
   ]
  },
  {
   "cell_type": "markdown",
   "metadata": {},
   "source": [
    "# Class"
   ]
  },
  {
   "cell_type": "code",
   "execution_count": 6,
   "metadata": {},
   "outputs": [
    {
     "name": "stdout",
     "output_type": "stream",
     "text": [
      "<__main__.Test object at 0x7f2ca85a8790>\n",
      "Add\n",
      "<__main__.Test object at 0x7f2ca85a8790>\n"
     ]
    }
   ],
   "source": [
    "class Test:\n",
    "    def add(self):  # self represents current object\n",
    "        print(self)\n",
    "        print(\"Add\")\n",
    "        \n",
    "t = Test()\n",
    "t.add()\n",
    "print(t)"
   ]
  },
  {
   "cell_type": "code",
   "execution_count": 7,
   "metadata": {},
   "outputs": [
    {
     "name": "stdout",
     "output_type": "stream",
     "text": [
      "<__main__.Test object at 0x7f2ca85a86d0>\n",
      "Add\n"
     ]
    }
   ],
   "source": [
    "t1 = Test()\n",
    "t1.add()"
   ]
  },
  {
   "cell_type": "code",
   "execution_count": 8,
   "metadata": {},
   "outputs": [
    {
     "name": "stdout",
     "output_type": "stream",
     "text": [
      "Add\n",
      "Add\n",
      "10\n",
      "20\n",
      "5\n",
      "9\n"
     ]
    }
   ],
   "source": [
    "class Test:\n",
    "    def add(self): #self = t1\n",
    "        print(\"Add\")\n",
    "        \n",
    "    def sub(self,a,b): #a and b are local variables of sub method\n",
    "        print(a)\n",
    "        print(b)\n",
    "        \n",
    "t1 = Test()\n",
    "t2 = Test()\n",
    "t1.add()\n",
    "t2.add()\n",
    "\n",
    "t1.sub(10,20)\n",
    "t2.sub(5,9)"
   ]
  },
  {
   "cell_type": "code",
   "execution_count": 9,
   "metadata": {},
   "outputs": [
    {
     "name": "stdout",
     "output_type": "stream",
     "text": [
      "Addition\n",
      "Addition\n",
      "10\n",
      "20\n",
      "11\n",
      "22\n"
     ]
    }
   ],
   "source": [
    "class Test:\n",
    "    def add(self):\n",
    "        print(\"Addition\")\n",
    "    \n",
    "    def sub(self, a, b): #a and b are local variables of sub method\n",
    "        self.x = a       #t1.x = 10, t2.x = 11    x and y both are class variables\n",
    "        self.y = b       #t1.y = 20, t2.y = 22    or instance variables\n",
    "        \n",
    "    def show(self):\n",
    "        print(self.x)\n",
    "        print(self.y)\n",
    "        \n",
    "    \n",
    "t1 = Test()\n",
    "t2 = Test()\n",
    "\n",
    "t1.add()\n",
    "t2.add()\n",
    "\n",
    "t1.sub(10,20)\n",
    "t2.sub(11,22)\n",
    "\n",
    "t1.show()\n",
    "t2.show()"
   ]
  },
  {
   "cell_type": "code",
   "execution_count": 10,
   "metadata": {},
   "outputs": [
    {
     "name": "stdout",
     "output_type": "stream",
     "text": [
      "10\n",
      "11\n"
     ]
    }
   ],
   "source": [
    "print(t1.x)\n",
    "print(t2.x)"
   ]
  },
  {
   "cell_type": "code",
   "execution_count": 11,
   "metadata": {},
   "outputs": [
    {
     "ename": "NameError",
     "evalue": "name 'x' is not defined",
     "output_type": "error",
     "traceback": [
      "\u001b[0;31m---------------------------------------------------------------------------\u001b[0m",
      "\u001b[0;31mNameError\u001b[0m                                 Traceback (most recent call last)",
      "\u001b[0;32m<ipython-input-11-fc17d851ef81>\u001b[0m in \u001b[0;36m<module>\u001b[0;34m\u001b[0m\n\u001b[0;32m----> 1\u001b[0;31m \u001b[0mprint\u001b[0m\u001b[0;34m(\u001b[0m\u001b[0mx\u001b[0m\u001b[0;34m)\u001b[0m\u001b[0;34m\u001b[0m\u001b[0;34m\u001b[0m\u001b[0m\n\u001b[0m",
      "\u001b[0;31mNameError\u001b[0m: name 'x' is not defined"
     ]
    }
   ],
   "source": [
    "print(x)"
   ]
  },
  {
   "cell_type": "markdown",
   "metadata": {},
   "source": [
    "# Constructor\n",
    "\n",
    "**init() method - magic method or dunders**\n",
    "\n",
    "Constructors are special member method of a class"
   ]
  },
  {
   "cell_type": "code",
   "execution_count": 12,
   "metadata": {},
   "outputs": [
    {
     "name": "stdout",
     "output_type": "stream",
     "text": [
      "Hello Constructor\n"
     ]
    }
   ],
   "source": [
    "class Cat:\n",
    "    def __init__(self):\n",
    "        print(\"Hello Constructor\")\n",
    "        \n",
    "\n",
    "f = Cat()"
   ]
  },
  {
   "cell_type": "markdown",
   "metadata": {},
   "source": [
    "### Paramatrized constructor"
   ]
  },
  {
   "cell_type": "code",
   "execution_count": 13,
   "metadata": {},
   "outputs": [
    {
     "name": "stdout",
     "output_type": "stream",
     "text": [
      "10\n"
     ]
    }
   ],
   "source": [
    "class Cat:\n",
    "    def __init__(self, x):\n",
    "        self.y = x        # f.y = 10\n",
    "    \n",
    "f = Cat(10)\n",
    "print(f.y)"
   ]
  },
  {
   "cell_type": "code",
   "execution_count": 17,
   "metadata": {},
   "outputs": [
    {
     "name": "stdout",
     "output_type": "stream",
     "text": [
      "8\n",
      "7\n"
     ]
    }
   ],
   "source": [
    "class Rectangel:\n",
    "    def __init__(self,a,b):\n",
    "        self.a = a\n",
    "        self.b = b\n",
    "        \n",
    "r = Rectangel(8,7)\n",
    "print(r.a)\n",
    "print(r.b)"
   ]
  },
  {
   "cell_type": "code",
   "execution_count": 15,
   "metadata": {},
   "outputs": [
    {
     "ename": "TypeError",
     "evalue": "__init__() missing 1 required positional argument: 'x'",
     "output_type": "error",
     "traceback": [
      "\u001b[0;31m---------------------------------------------------------------------------\u001b[0m",
      "\u001b[0;31mTypeError\u001b[0m                                 Traceback (most recent call last)",
      "\u001b[0;32m<ipython-input-15-3b31834159fd>\u001b[0m in \u001b[0;36m<module>\u001b[0;34m\u001b[0m\n\u001b[1;32m      3\u001b[0m         \u001b[0mself\u001b[0m\u001b[0;34m.\u001b[0m\u001b[0my\u001b[0m \u001b[0;34m=\u001b[0m \u001b[0mx\u001b[0m        \u001b[0;31m# f.y = 10\u001b[0m\u001b[0;34m\u001b[0m\u001b[0;34m\u001b[0m\u001b[0m\n\u001b[1;32m      4\u001b[0m \u001b[0;34m\u001b[0m\u001b[0m\n\u001b[0;32m----> 5\u001b[0;31m \u001b[0mf\u001b[0m \u001b[0;34m=\u001b[0m \u001b[0mCat\u001b[0m\u001b[0;34m(\u001b[0m\u001b[0;34m)\u001b[0m\u001b[0;34m\u001b[0m\u001b[0;34m\u001b[0m\u001b[0m\n\u001b[0m\u001b[1;32m      6\u001b[0m \u001b[0mprint\u001b[0m\u001b[0;34m(\u001b[0m\u001b[0mf\u001b[0m\u001b[0;34m.\u001b[0m\u001b[0my\u001b[0m\u001b[0;34m)\u001b[0m\u001b[0;34m\u001b[0m\u001b[0;34m\u001b[0m\u001b[0m\n",
      "\u001b[0;31mTypeError\u001b[0m: __init__() missing 1 required positional argument: 'x'"
     ]
    }
   ],
   "source": [
    "class Cat:\n",
    "    def __init__(self, x):\n",
    "        self.y = x        # f.y = 10\n",
    "    \n",
    "f = Cat()\n",
    "print(f.y)"
   ]
  },
  {
   "cell_type": "code",
   "execution_count": null,
   "metadata": {},
   "outputs": [],
   "source": []
  },
  {
   "cell_type": "code",
   "execution_count": null,
   "metadata": {},
   "outputs": [],
   "source": []
  },
  {
   "cell_type": "markdown",
   "metadata": {},
   "source": [
    "# Questions\n",
    "\n",
    "**1. WAP to create a class to reverse a string word by word**"
   ]
  },
  {
   "cell_type": "code",
   "execution_count": null,
   "metadata": {},
   "outputs": [],
   "source": []
  },
  {
   "cell_type": "markdown",
   "metadata": {},
   "source": [
    "**2. WAP to create a class that can calculate area of circle, rectangel, square and triangle**"
   ]
  },
  {
   "cell_type": "code",
   "execution_count": null,
   "metadata": {},
   "outputs": [],
   "source": []
  }
 ],
 "metadata": {
  "kernelspec": {
   "display_name": "Python 3",
   "language": "python",
   "name": "python3"
  },
  "language_info": {
   "codemirror_mode": {
    "name": "ipython",
    "version": 3
   },
   "file_extension": ".py",
   "mimetype": "text/x-python",
   "name": "python",
   "nbconvert_exporter": "python",
   "pygments_lexer": "ipython3",
   "version": "3.7.6"
  }
 },
 "nbformat": 4,
 "nbformat_minor": 4
}
