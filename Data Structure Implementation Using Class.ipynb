{
 "cells": [
  {
   "cell_type": "markdown",
   "metadata": {},
   "source": [
    "# Stack\n",
    "\n",
    "LIFO - Last In First Out"
   ]
  },
  {
   "cell_type": "code",
   "execution_count": 1,
   "metadata": {},
   "outputs": [
    {
     "name": "stdout",
     "output_type": "stream",
     "text": [
      "Stack after Push :  [44]\n"
     ]
    }
   ],
   "source": [
    "class Stack:\n",
    "    def __init__(self,limit = 10):\n",
    "        self.stk = []\n",
    "        self.limit = limit\n",
    "    \n",
    "    def isEmpty(self):\n",
    "        return len(self.stk) <= 0\n",
    "    \n",
    "    \n",
    "    def push(self,item):\n",
    "        if len(self.stk) >= self.limit:\n",
    "            print(\"Stack Overflow!\")\n",
    "        else:\n",
    "            self.stk.append(item)\n",
    "        print(\"Stack after Push : \",self.stk)\n",
    "        \n",
    "    def pop(self):\n",
    "        if len(self.stk) <=0:\n",
    "            print(\"Stack Underflow\")\n",
    "            return 0\n",
    "        else:\n",
    "            return self.stk.pop()\n",
    "        \n",
    "    def peek(self):\n",
    "        if len(self.stk) <= 0:\n",
    "            print(\"Stack Underflow\")\n",
    "            return 0\n",
    "        else:\n",
    "            return self.stk[-1]\n",
    "    \n",
    "    def size(self):\n",
    "        return len(self.stk)\n",
    "    \n",
    "    \n",
    "s = Stack(5)\n",
    "s.push(44)"
   ]
  },
  {
   "cell_type": "code",
   "execution_count": 2,
   "metadata": {},
   "outputs": [
    {
     "name": "stdout",
     "output_type": "stream",
     "text": [
      "Stack after Push :  [44, 22]\n"
     ]
    }
   ],
   "source": [
    "s.push(22)"
   ]
  },
  {
   "cell_type": "code",
   "execution_count": 3,
   "metadata": {},
   "outputs": [
    {
     "name": "stdout",
     "output_type": "stream",
     "text": [
      "Stack after Push :  [44, 22, 88]\n"
     ]
    }
   ],
   "source": [
    "s.push(88)"
   ]
  },
  {
   "cell_type": "code",
   "execution_count": 4,
   "metadata": {},
   "outputs": [
    {
     "data": {
      "text/plain": [
       "88"
      ]
     },
     "execution_count": 4,
     "metadata": {},
     "output_type": "execute_result"
    }
   ],
   "source": [
    "s.peek()"
   ]
  },
  {
   "cell_type": "code",
   "execution_count": 5,
   "metadata": {},
   "outputs": [
    {
     "data": {
      "text/plain": [
       "False"
      ]
     },
     "execution_count": 5,
     "metadata": {},
     "output_type": "execute_result"
    }
   ],
   "source": [
    "s.isEmpty()"
   ]
  },
  {
   "cell_type": "code",
   "execution_count": 6,
   "metadata": {},
   "outputs": [
    {
     "data": {
      "text/plain": [
       "3"
      ]
     },
     "execution_count": 6,
     "metadata": {},
     "output_type": "execute_result"
    }
   ],
   "source": [
    "s.size()"
   ]
  },
  {
   "cell_type": "code",
   "execution_count": 7,
   "metadata": {},
   "outputs": [
    {
     "data": {
      "text/plain": [
       "88"
      ]
     },
     "execution_count": 7,
     "metadata": {},
     "output_type": "execute_result"
    }
   ],
   "source": [
    "s.pop()"
   ]
  },
  {
   "cell_type": "code",
   "execution_count": 8,
   "metadata": {},
   "outputs": [
    {
     "name": "stdout",
     "output_type": "stream",
     "text": [
      "Stack after Push :  [44, 22, 99]\n"
     ]
    }
   ],
   "source": [
    "s.push(99)"
   ]
  },
  {
   "cell_type": "code",
   "execution_count": null,
   "metadata": {},
   "outputs": [],
   "source": [
    "def rezize(self):\n",
    "    self.limit = 2*self.limit"
   ]
  },
  {
   "cell_type": "code",
   "execution_count": 9,
   "metadata": {},
   "outputs": [
    {
     "name": "stdout",
     "output_type": "stream",
     "text": [
      "[None, None, None, None, None]\n"
     ]
    }
   ],
   "source": [
    "limit = 5\n",
    "\n",
    "l = limit*[None]\n",
    "print(l)"
   ]
  },
  {
   "cell_type": "markdown",
   "metadata": {},
   "source": [
    "# Queue\n",
    "FIFO - First In First Out"
   ]
  },
  {
   "cell_type": "code",
   "execution_count": 2,
   "metadata": {},
   "outputs": [],
   "source": [
    "class Queue:\n",
    "    def __init__(self, limit = 5):\n",
    "        self.que = []\n",
    "        self.limit = limit\n",
    "        self.front = None\n",
    "        self.rear = None\n",
    "        self.size = 0\n",
    "        \n",
    "    def isEmpty(self):\n",
    "        return self.size <= 0\n",
    "    \n",
    "    def enQueue(self, item):\n",
    "        if self.size >= self.limit:\n",
    "            print(\"Queue Overflow\")\n",
    "            return\n",
    "        else:\n",
    "            self.que.append(item)\n",
    "        \n",
    "        if self.front is None:\n",
    "            self.front = self.rear = 0\n",
    "        else:\n",
    "            self.rear = self.size\n",
    "        \n",
    "        self.size += 1\n",
    "        print(\"Queue after enQueue : \", self.que)\n",
    "        \n",
    "    def deQueue(self):\n",
    "        if self.size <= 0:\n",
    "            print(\"Queue Underflow\")\n",
    "            return 0\n",
    "        else:\n",
    "            self.que.pop(0)\n",
    "            self.size -= 1\n",
    "            if self.size == 0:\n",
    "                self.front = self.rear = None\n",
    "            else:\n",
    "                self.rear = self.size - 1\n",
    "            print(\"Queue after deQueue : \", self.que)\n",
    "    \n",
    "    def queueRear(self):\n",
    "        if self.rear is None:\n",
    "            print(\"Queue is Empty\")\n",
    "            raise IndexError\n",
    "        return self.que[self.rear]\n",
    "    \n",
    "    def queueFront(self):\n",
    "        if self.front is None:\n",
    "            print(\"Queue is Empty\")\n",
    "            raise IndexError\n",
    "        return self.que[self.front]\n",
    "    \n",
    "    def size(self):\n",
    "        return self.size"
   ]
  },
  {
   "cell_type": "code",
   "execution_count": 3,
   "metadata": {},
   "outputs": [
    {
     "name": "stdout",
     "output_type": "stream",
     "text": [
      "Queue after enQueue :  ['one']\n"
     ]
    }
   ],
   "source": [
    "q = Queue()\n",
    "q.enQueue(\"one\")"
   ]
  },
  {
   "cell_type": "code",
   "execution_count": 4,
   "metadata": {},
   "outputs": [
    {
     "name": "stdout",
     "output_type": "stream",
     "text": [
      "Queue after enQueue :  ['one', 'two']\n"
     ]
    }
   ],
   "source": [
    "q.enQueue(\"two\")"
   ]
  },
  {
   "cell_type": "code",
   "execution_count": 5,
   "metadata": {},
   "outputs": [
    {
     "name": "stdout",
     "output_type": "stream",
     "text": [
      "Queue after enQueue :  ['one', 'two', 'three']\n"
     ]
    }
   ],
   "source": [
    "q.enQueue(\"three\")"
   ]
  },
  {
   "cell_type": "code",
   "execution_count": 6,
   "metadata": {},
   "outputs": [
    {
     "name": "stdout",
     "output_type": "stream",
     "text": [
      "Queue after enQueue :  ['one', 'two', 'three', 'four']\n"
     ]
    }
   ],
   "source": [
    "q.enQueue(\"four\")"
   ]
  },
  {
   "cell_type": "code",
   "execution_count": 7,
   "metadata": {},
   "outputs": [
    {
     "name": "stdout",
     "output_type": "stream",
     "text": [
      "Queue after deQueue :  ['two', 'three', 'four']\n"
     ]
    }
   ],
   "source": [
    "q.deQueue()"
   ]
  },
  {
   "cell_type": "code",
   "execution_count": 8,
   "metadata": {},
   "outputs": [
    {
     "data": {
      "text/plain": [
       "'four'"
      ]
     },
     "execution_count": 8,
     "metadata": {},
     "output_type": "execute_result"
    }
   ],
   "source": [
    "q.queueRear()"
   ]
  },
  {
   "cell_type": "code",
   "execution_count": 9,
   "metadata": {},
   "outputs": [
    {
     "data": {
      "text/plain": [
       "'two'"
      ]
     },
     "execution_count": 9,
     "metadata": {},
     "output_type": "execute_result"
    }
   ],
   "source": [
    "q.queueFront()"
   ]
  },
  {
   "cell_type": "code",
   "execution_count": 10,
   "metadata": {},
   "outputs": [
    {
     "ename": "TypeError",
     "evalue": "'int' object is not callable",
     "output_type": "error",
     "traceback": [
      "\u001b[0;31m---------------------------------------------------------------------------\u001b[0m",
      "\u001b[0;31mTypeError\u001b[0m                                 Traceback (most recent call last)",
      "\u001b[0;32m<ipython-input-10-8bee66378650>\u001b[0m in \u001b[0;36m<module>\u001b[0;34m\u001b[0m\n\u001b[0;32m----> 1\u001b[0;31m \u001b[0mq\u001b[0m\u001b[0;34m.\u001b[0m\u001b[0msize\u001b[0m\u001b[0;34m(\u001b[0m\u001b[0;34m)\u001b[0m\u001b[0;34m\u001b[0m\u001b[0;34m\u001b[0m\u001b[0m\n\u001b[0m",
      "\u001b[0;31mTypeError\u001b[0m: 'int' object is not callable"
     ]
    }
   ],
   "source": [
    "q.size()"
   ]
  },
  {
   "cell_type": "code",
   "execution_count": null,
   "metadata": {},
   "outputs": [],
   "source": []
  }
 ],
 "metadata": {
  "kernelspec": {
   "display_name": "Python 3",
   "language": "python",
   "name": "python3"
  },
  "language_info": {
   "codemirror_mode": {
    "name": "ipython",
    "version": 3
   },
   "file_extension": ".py",
   "mimetype": "text/x-python",
   "name": "python",
   "nbconvert_exporter": "python",
   "pygments_lexer": "ipython3",
   "version": "3.7.6"
  }
 },
 "nbformat": 4,
 "nbformat_minor": 4
}
