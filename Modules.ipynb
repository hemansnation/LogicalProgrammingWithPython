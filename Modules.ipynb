{
 "cells": [
  {
   "cell_type": "markdown",
   "metadata": {},
   "source": [
    "# Modules\n",
    "\n",
    "india.py"
   ]
  },
  {
   "cell_type": "code",
   "execution_count": 1,
   "metadata": {},
   "outputs": [
    {
     "name": "stdout",
     "output_type": "stream",
     "text": [
      "posix\n"
     ]
    }
   ],
   "source": [
    "import os\n",
    "# operating system\n",
    "print(os.name)\n",
    "# portable operating system interface"
   ]
  },
  {
   "cell_type": "code",
   "execution_count": 2,
   "metadata": {},
   "outputs": [
    {
     "name": "stdout",
     "output_type": "stream",
     "text": [
      "/home/heman/Documents/IIST/Python Core\n"
     ]
    }
   ],
   "source": [
    "print(os.getcwd())  #current working directory"
   ]
  },
  {
   "cell_type": "code",
   "execution_count": 3,
   "metadata": {},
   "outputs": [
    {
     "data": {
      "text/plain": [
       "'/home/heman/Documents/IIST/Python Core'"
      ]
     },
     "execution_count": 3,
     "metadata": {},
     "output_type": "execute_result"
    }
   ],
   "source": [
    "pwd"
   ]
  },
  {
   "cell_type": "code",
   "execution_count": 4,
   "metadata": {},
   "outputs": [
    {
     "name": "stdout",
     "output_type": "stream",
     "text": [
      "11\n",
      "10\n"
     ]
    }
   ],
   "source": [
    "import math\n",
    "\n",
    "a = 10.65\n",
    "\n",
    "print(math.ceil(a))\n",
    "\n",
    "print(math.floor(a))"
   ]
  },
  {
   "cell_type": "code",
   "execution_count": 5,
   "metadata": {},
   "outputs": [
    {
     "name": "stdout",
     "output_type": "stream",
     "text": [
      "120\n"
     ]
    }
   ],
   "source": [
    "b = 5\n",
    "\n",
    "print(math.factorial(b))"
   ]
  },
  {
   "cell_type": "code",
   "execution_count": 6,
   "metadata": {},
   "outputs": [
    {
     "name": "stdout",
     "output_type": "stream",
     "text": [
      "1.0\n"
     ]
    }
   ],
   "source": [
    "print(math.log(2,2))"
   ]
  },
  {
   "cell_type": "code",
   "execution_count": 7,
   "metadata": {},
   "outputs": [
    {
     "name": "stdout",
     "output_type": "stream",
     "text": [
      "32.0\n"
     ]
    }
   ],
   "source": [
    "print(math.pow(2,5))"
   ]
  },
  {
   "cell_type": "code",
   "execution_count": 14,
   "metadata": {},
   "outputs": [
    {
     "name": "stdout",
     "output_type": "stream",
     "text": [
      "7\n"
     ]
    }
   ],
   "source": [
    "import random as r\n",
    "\n",
    "print(r.randint(3,10))"
   ]
  },
  {
   "cell_type": "code",
   "execution_count": 11,
   "metadata": {},
   "outputs": [
    {
     "name": "stdout",
     "output_type": "stream",
     "text": [
      "B\n"
     ]
    }
   ],
   "source": [
    "l = [\"A\",\"B\",\"C\"]\n",
    "\n",
    "print(r.choice(l))"
   ]
  },
  {
   "cell_type": "code",
   "execution_count": 16,
   "metadata": {},
   "outputs": [
    {
     "name": "stdout",
     "output_type": "stream",
     "text": [
      "Hello from Matrix Just\n",
      "30\n",
      "Enter Your name : Akshat\n",
      "Hello Akshat\n"
     ]
    }
   ],
   "source": [
    "import matrix\n",
    "\n",
    "matrix.just()\n",
    "\n",
    "print(matrix.add(10,20))\n",
    "\n",
    "x = input(\"Enter Your name : \")\n",
    "matrix.good(x)"
   ]
  },
  {
   "cell_type": "markdown",
   "metadata": {},
   "source": [
    "# PIP\n",
    "Python Package Index<br>\n",
    "Python Package Manager"
   ]
  },
  {
   "cell_type": "code",
   "execution_count": 18,
   "metadata": {},
   "outputs": [
    {
     "name": "stdout",
     "output_type": "stream",
     "text": [
      "Collecting camelcase\n",
      "  Downloading camelcase-0.2.tar.gz (1.3 kB)\n",
      "Building wheels for collected packages: camelcase\n",
      "  Building wheel for camelcase (setup.py) ... \u001b[?25ldone\n",
      "\u001b[?25h  Created wheel for camelcase: filename=camelcase-0.2-py3-none-any.whl size=1789 sha256=de67629b2fba9aa1d87af4ff0caa88ea99adcf0f18a9a25f6b957668792a2994\n",
      "  Stored in directory: /home/heman/.cache/pip/wheels/5c/15/30/92459bdd828bf363082955935e49d5b3f83f8e32af8aad7e34\n",
      "Successfully built camelcase\n",
      "Installing collected packages: camelcase\n",
      "Successfully installed camelcase-0.2\n"
     ]
    }
   ],
   "source": [
    "!pip install camelcase"
   ]
  },
  {
   "cell_type": "code",
   "execution_count": 19,
   "metadata": {},
   "outputs": [],
   "source": [
    "import camelcase"
   ]
  },
  {
   "cell_type": "code",
   "execution_count": 20,
   "metadata": {},
   "outputs": [
    {
     "name": "stdout",
     "output_type": "stream",
     "text": [
      "Hello Indore\n"
     ]
    }
   ],
   "source": [
    "c = camelcase.CamelCase()\n",
    "\n",
    "s = \"hello indore\"\n",
    "\n",
    "print(c.hump(s))"
   ]
  },
  {
   "cell_type": "code",
   "execution_count": 21,
   "metadata": {},
   "outputs": [
    {
     "data": {
      "text/plain": [
       "'hello indore'"
      ]
     },
     "execution_count": 21,
     "metadata": {},
     "output_type": "execute_result"
    }
   ],
   "source": [
    "s.lower()"
   ]
  },
  {
   "cell_type": "code",
   "execution_count": 22,
   "metadata": {},
   "outputs": [
    {
     "data": {
      "text/plain": [
       "'HELLO INDORE'"
      ]
     },
     "execution_count": 22,
     "metadata": {},
     "output_type": "execute_result"
    }
   ],
   "source": [
    "s.upper()"
   ]
  },
  {
   "cell_type": "code",
   "execution_count": 24,
   "metadata": {
    "scrolled": false
   },
   "outputs": [
    {
     "name": "stdout",
     "output_type": "stream",
     "text": [
      "Found existing installation: camelcase 0.2\n",
      "Uninstalling camelcase-0.2:\n",
      "  Would remove:\n",
      "    /home/heman/anaconda3/lib/python3.7/site-packages/camelcase-0.2.dist-info/*\n",
      "    /home/heman/anaconda3/lib/python3.7/site-packages/camelcase/*\n",
      "Proceed (y/n)? ^C\n",
      "\u001b[31mERROR: Operation cancelled by user\u001b[0m\n"
     ]
    }
   ],
   "source": [
    "!pip uninstall camelcase"
   ]
  },
  {
   "cell_type": "code",
   "execution_count": 25,
   "metadata": {
    "scrolled": true
   },
   "outputs": [
    {
     "name": "stdout",
     "output_type": "stream",
     "text": [
      "Package                            Version            \r\n",
      "---------------------------------- -------------------\r\n",
      "absl-py                            0.10.0             \r\n",
      "alabaster                          0.7.12             \r\n",
      "anaconda-client                    1.7.2              \r\n",
      "anaconda-navigator                 1.9.12             \r\n",
      "anaconda-project                   0.8.3              \r\n",
      "aniso8601                          8.0.0              \r\n",
      "appdirs                            1.4.4              \r\n",
      "argh                               0.26.2             \r\n",
      "asn1crypto                         1.3.0              \r\n",
      "astroid                            2.3.3              \r\n",
      "astropy                            4.0                \r\n",
      "astunparse                         1.6.3              \r\n",
      "atomicwrites                       1.3.0              \r\n",
      "attrs                              19.3.0             \r\n",
      "audioread                          2.1.8              \r\n",
      "autocorrect                        2.1.0              \r\n",
      "autopep8                           1.4.4              \r\n",
      "Babel                              2.8.0              \r\n",
      "backcall                           0.1.0              \r\n",
      "backports.functools-lru-cache      1.6.1              \r\n",
      "backports.shutil-get-terminal-size 1.0.0              \r\n",
      "backports.tempfile                 1.0                \r\n",
      "backports.weakref                  1.0.post1          \r\n",
      "beautifulsoup4                     4.8.2              \r\n",
      "bitarray                           1.2.1              \r\n",
      "bkcharts                           0.2                \r\n",
      "bleach                             3.1.0              \r\n",
      "bokeh                              1.4.0              \r\n",
      "boto                               2.49.0             \r\n",
      "Bottleneck                         1.3.2              \r\n",
      "bs4                                0.0.1              \r\n",
      "cachetools                         4.1.1              \r\n",
      "camelcase                          0.2                \r\n",
      "certifi                            2019.11.28         \r\n",
      "cffi                               1.14.0             \r\n",
      "chardet                            3.0.4              \r\n",
      "Click                              7.0                \r\n",
      "cloudpickle                        1.3.0              \r\n",
      "clyent                             1.2.2              \r\n",
      "colorama                           0.4.3              \r\n",
      "conda                              4.8.3              \r\n",
      "conda-build                        3.18.11            \r\n",
      "conda-package-handling             1.7.0              \r\n",
      "conda-verify                       3.4.2              \r\n",
      "contextlib2                        0.6.0.post1        \r\n",
      "cryptography                       2.8                \r\n",
      "cycler                             0.10.0             \r\n",
      "Cython                             0.29.15            \r\n",
      "cytoolz                            0.10.1             \r\n",
      "dask                               2.11.0             \r\n",
      "decorator                          4.4.1              \r\n",
      "defusedxml                         0.6.0              \r\n",
      "diff-match-patch                   20181111           \r\n",
      "distributed                        2.11.0             \r\n",
      "docutils                           0.16               \r\n",
      "entrypoints                        0.3                \r\n",
      "et-xmlfile                         1.0.1              \r\n",
      "fastcache                          1.1.0              \r\n",
      "filelock                           3.0.12             \r\n",
      "flake8                             3.7.9              \r\n",
      "Flask                              1.1.1              \r\n",
      "Flask-RESTful                      0.3.8              \r\n",
      "fsspec                             0.6.2              \r\n",
      "future                             0.18.2             \r\n",
      "gast                               0.3.3              \r\n",
      "gevent                             1.4.0              \r\n",
      "glob2                              0.7                \r\n",
      "gmpy2                              2.0.8              \r\n",
      "google-auth                        1.21.1             \r\n",
      "google-auth-oauthlib               0.4.1              \r\n",
      "google-pasta                       0.2.0              \r\n",
      "greenlet                           0.4.15             \r\n",
      "grpcio                             1.31.0             \r\n",
      "gunicorn                           20.0.4             \r\n",
      "h5py                               2.10.0             \r\n",
      "HeapDict                           1.0.1              \r\n",
      "html5lib                           1.0.1              \r\n",
      "hypothesis                         5.5.4              \r\n",
      "idna                               2.8                \r\n",
      "imageio                            2.6.1              \r\n",
      "imagesize                          1.2.0              \r\n",
      "importlib-metadata                 1.5.0              \r\n",
      "intervaltree                       3.0.2              \r\n",
      "ipykernel                          5.1.4              \r\n",
      "ipython                            7.12.0             \r\n",
      "ipython-genutils                   0.2.0              \r\n",
      "ipywidgets                         7.5.1              \r\n",
      "isort                              4.3.21             \r\n",
      "itsdangerous                       1.1.0              \r\n",
      "jdcal                              1.4.1              \r\n",
      "jedi                               0.14.1             \r\n",
      "jeepney                            0.4.2              \r\n",
      "Jinja2                             2.11.1             \r\n",
      "joblib                             0.14.1             \r\n",
      "json5                              0.9.1              \r\n",
      "jsonschema                         3.2.0              \r\n",
      "jupyter                            1.0.0              \r\n",
      "jupyter-client                     5.3.4              \r\n",
      "jupyter-console                    6.1.0              \r\n",
      "jupyter-core                       4.6.1              \r\n",
      "jupyterlab                         1.2.6              \r\n",
      "jupyterlab-server                  1.0.6              \r\n",
      "Keras                              2.4.3              \r\n",
      "Keras-Preprocessing                1.1.2              \r\n",
      "keyring                            21.1.0             \r\n",
      "kiwisolver                         1.1.0              \r\n",
      "lazy-object-proxy                  1.4.3              \r\n",
      "libarchive-c                       2.8                \r\n",
      "librosa                            0.8.0              \r\n",
      "lief                               0.9.0              \r\n",
      "llvmlite                           0.31.0             \r\n",
      "locket                             0.2.0              \r\n",
      "lxml                               4.5.0              \r\n",
      "Markdown                           3.2.2              \r\n",
      "MarkupSafe                         1.1.1              \r\n",
      "matplotlib                         3.1.3              \r\n",
      "mccabe                             0.6.1              \r\n",
      "mistune                            0.8.4              \r\n",
      "mkl-fft                            1.0.15             \r\n",
      "mkl-random                         1.1.0              \r\n",
      "mkl-service                        2.3.0              \r\n",
      "mock                               4.0.1              \r\n",
      "more-itertools                     8.2.0              \r\n",
      "mpmath                             1.1.0              \r\n",
      "msgpack                            0.6.1              \r\n",
      "multipledispatch                   0.6.0              \r\n",
      "navigator-updater                  0.2.1              \r\n",
      "nbconvert                          5.6.1              \r\n",
      "nbformat                           5.0.4              \r\n",
      "networkx                           2.4                \r\n",
      "nltk                               3.4.5              \r\n",
      "nose                               1.3.7              \r\n",
      "notebook                           6.0.3              \r\n",
      "numba                              0.48.0             \r\n",
      "numexpr                            2.7.1              \r\n",
      "numpy                              1.18.1             \r\n",
      "numpydoc                           0.9.2              \r\n",
      "oauthlib                           3.1.0              \r\n",
      "olefile                            0.46               \r\n",
      "openpyxl                           3.0.3              \r\n",
      "opt-einsum                         3.3.0              \r\n",
      "packaging                          20.1               \r\n",
      "pandas                             1.0.1              \r\n",
      "pandocfilters                      1.4.2              \r\n",
      "parso                              0.5.2              \r\n",
      "partd                              1.1.0              \r\n",
      "path                               13.1.0             \r\n",
      "pathlib2                           2.3.5              \r\n",
      "pathtools                          0.1.2              \r\n",
      "patsy                              0.5.1              \r\n",
      "pep8                               1.7.1              \r\n",
      "pexpect                            4.8.0              \r\n",
      "pickleshare                        0.7.5              \r\n",
      "Pillow                             7.0.0              \r\n",
      "pip                                20.0.2             \r\n",
      "pkginfo                            1.5.0.1            \r\n",
      "pluggy                             0.13.1             \r\n",
      "ply                                3.11               \r\n",
      "pooch                              1.1.1              \r\n",
      "prometheus-client                  0.7.1              \r\n",
      "prompt-toolkit                     3.0.3              \r\n",
      "protobuf                           3.13.0             \r\n",
      "psutil                             5.6.7              \r\n",
      "ptyprocess                         0.6.0              \r\n",
      "py                                 1.8.1              \r\n",
      "pyasn1                             0.4.8              \r\n",
      "pyasn1-modules                     0.2.8              \r\n",
      "pycodestyle                        2.5.0              \r\n",
      "pycosat                            0.6.3              \r\n",
      "pycparser                          2.19               \r\n",
      "pycrypto                           2.6.1              \r\n",
      "pycurl                             7.43.0.5           \r\n",
      "pydocstyle                         4.0.1              \r\n",
      "pyflakes                           2.1.1              \r\n",
      "Pygments                           2.5.2              \r\n",
      "pylint                             2.4.4              \r\n",
      "pyodbc                             4.0.0-unsupported  \r\n",
      "pyOpenSSL                          19.1.0             \r\n",
      "pyparsing                          2.4.6              \r\n",
      "pyrsistent                         0.15.7             \r\n",
      "PySocks                            1.7.1              \r\n",
      "pytest                             5.3.5              \r\n",
      "pytest-arraydiff                   0.3                \r\n",
      "pytest-astropy                     0.8.0              \r\n",
      "pytest-astropy-header              0.1.2              \r\n",
      "pytest-doctestplus                 0.5.0              \r\n",
      "pytest-openfiles                   0.4.0              \r\n",
      "pytest-remotedata                  0.3.2              \r\n",
      "python-dateutil                    2.8.1              \r\n",
      "python-jsonrpc-server              0.3.4              \r\n",
      "python-language-server             0.31.7             \r\n",
      "pytz                               2019.3             \r\n",
      "PyWavelets                         1.1.1              \r\n",
      "pyxdg                              0.26               \r\n",
      "PyYAML                             5.3                \r\n",
      "pyzmq                              18.1.1             \r\n",
      "QDarkStyle                         2.8                \r\n",
      "QtAwesome                          0.6.1              \r\n",
      "qtconsole                          4.6.0              \r\n",
      "QtPy                               1.9.0              \r\n",
      "requests                           2.22.0             \r\n",
      "requests-oauthlib                  1.3.0              \r\n",
      "resampy                            0.2.2              \r\n",
      "rope                               0.16.0             \r\n",
      "rsa                                4.6                \r\n",
      "Rtree                              0.9.3              \r\n",
      "ruamel-yaml                        0.15.87            \r\n",
      "scikit-image                       0.16.2             \r\n",
      "scikit-learn                       0.22.1             \r\n",
      "scipy                              1.4.1              \r\n",
      "seaborn                            0.10.0             \r\n",
      "SecretStorage                      3.1.2              \r\n",
      "Send2Trash                         1.5.0              \r\n",
      "setuptools                         45.2.0.post20200210\r\n",
      "simplegeneric                      0.8.1              \r\n",
      "singledispatch                     3.4.0.3            \r\n",
      "six                                1.14.0             \r\n",
      "snowballstemmer                    2.0.0              \r\n",
      "sortedcollections                  1.1.2              \r\n",
      "sortedcontainers                   2.1.0              \r\n",
      "SoundFile                          0.10.3.post1       \r\n",
      "soupsieve                          1.9.5              \r\n",
      "Sphinx                             2.4.0              \r\n",
      "sphinxcontrib-applehelp            1.0.1              \r\n",
      "sphinxcontrib-devhelp              1.0.1              \r\n",
      "sphinxcontrib-htmlhelp             1.0.2              \r\n",
      "sphinxcontrib-jsmath               1.0.1              \r\n",
      "sphinxcontrib-qthelp               1.0.2              \r\n",
      "sphinxcontrib-serializinghtml      1.1.3              \r\n",
      "sphinxcontrib-websupport           1.2.0              \r\n",
      "spyder                             4.0.1              \r\n",
      "spyder-kernels                     1.8.1              \r\n",
      "SQLAlchemy                         1.3.13             \r\n",
      "statsmodels                        0.11.0             \r\n",
      "sympy                              1.5.1              \r\n",
      "tables                             3.6.1              \r\n",
      "tblib                              1.6.0              \r\n",
      "tensorboard                        2.3.0              \r\n",
      "tensorboard-plugin-wit             1.7.0              \r\n",
      "tensorflow                         2.3.0              \r\n",
      "tensorflow-estimator               2.3.0              \r\n",
      "termcolor                          1.1.0              \r\n",
      "terminado                          0.8.3              \r\n",
      "testpath                           0.4.4              \r\n",
      "toolz                              0.10.0             \r\n",
      "torch                              1.6.0              \r\n",
      "tornado                            6.0.3              \r\n",
      "tqdm                               4.42.1             \r\n",
      "traitlets                          4.3.3              \r\n",
      "ujson                              1.35               \r\n",
      "unicodecsv                         0.14.1             \r\n",
      "urllib3                            1.25.8             \r\n",
      "watchdog                           0.10.2             \r\n",
      "wcwidth                            0.1.8              \r\n",
      "webencodings                       0.5.1              \r\n",
      "Werkzeug                           1.0.0              \r\n",
      "wheel                              0.34.2             \r\n",
      "widgetsnbextension                 3.5.1              \r\n",
      "wrapt                              1.11.2             \r\n",
      "wurlitzer                          2.0.0              \r\n",
      "xlrd                               1.2.0              \r\n",
      "XlsxWriter                         1.2.7              \r\n",
      "xlwt                               1.3.0              \r\n",
      "xmltodict                          0.12.0             \r\n",
      "yapf                               0.28.0             \r\n",
      "zict                               1.0.0              \r\n",
      "zipp                               2.2.0              \r\n"
     ]
    }
   ],
   "source": [
    "!pip list"
   ]
  },
  {
   "cell_type": "code",
   "execution_count": 26,
   "metadata": {},
   "outputs": [],
   "source": [
    "import mathematics"
   ]
  },
  {
   "cell_type": "code",
   "execution_count": 27,
   "metadata": {},
   "outputs": [
    {
     "name": "stdout",
     "output_type": "stream",
     "text": [
      "Hello from hell\n"
     ]
    }
   ],
   "source": [
    "from mathematics import hello\n",
    "\n",
    "hello.hell()"
   ]
  },
  {
   "cell_type": "code",
   "execution_count": 28,
   "metadata": {},
   "outputs": [
    {
     "ename": "NameError",
     "evalue": "name 'stats' is not defined",
     "output_type": "error",
     "traceback": [
      "\u001b[0;31m---------------------------------------------------------------------------\u001b[0m",
      "\u001b[0;31mNameError\u001b[0m                                 Traceback (most recent call last)",
      "\u001b[0;32m<ipython-input-28-856804538210>\u001b[0m in \u001b[0;36m<module>\u001b[0;34m\u001b[0m\n\u001b[0;32m----> 1\u001b[0;31m \u001b[0mstats\u001b[0m\u001b[0;34m.\u001b[0m\u001b[0mmean\u001b[0m\u001b[0;34m(\u001b[0m\u001b[0;34m)\u001b[0m\u001b[0;34m\u001b[0m\u001b[0;34m\u001b[0m\u001b[0m\n\u001b[0m",
      "\u001b[0;31mNameError\u001b[0m: name 'stats' is not defined"
     ]
    }
   ],
   "source": [
    "stats.mean()"
   ]
  },
  {
   "cell_type": "code",
   "execution_count": 29,
   "metadata": {},
   "outputs": [
    {
     "name": "stdout",
     "output_type": "stream",
     "text": [
      "This is mean\n"
     ]
    }
   ],
   "source": [
    "from mathematics import stats\n",
    "\n",
    "stats.mean()"
   ]
  },
  {
   "cell_type": "code",
   "execution_count": null,
   "metadata": {},
   "outputs": [],
   "source": []
  }
 ],
 "metadata": {
  "kernelspec": {
   "display_name": "Python 3",
   "language": "python",
   "name": "python3"
  },
  "language_info": {
   "codemirror_mode": {
    "name": "ipython",
    "version": 3
   },
   "file_extension": ".py",
   "mimetype": "text/x-python",
   "name": "python",
   "nbconvert_exporter": "python",
   "pygments_lexer": "ipython3",
   "version": "3.7.6"
  }
 },
 "nbformat": 4,
 "nbformat_minor": 4
}
