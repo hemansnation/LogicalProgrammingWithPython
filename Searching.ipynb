{
 "cells": [
  {
   "cell_type": "markdown",
   "metadata": {},
   "source": [
    "# Searching"
   ]
  },
  {
   "cell_type": "code",
   "execution_count": 1,
   "metadata": {},
   "outputs": [],
   "source": [
    "a = [1,2,3,4,5,6,7,8,9,10]"
   ]
  },
  {
   "cell_type": "markdown",
   "metadata": {},
   "source": [
    "# Membership Operator Search"
   ]
  },
  {
   "cell_type": "code",
   "execution_count": 2,
   "metadata": {},
   "outputs": [
    {
     "name": "stdout",
     "output_type": "stream",
     "text": [
      "True\n"
     ]
    }
   ],
   "source": [
    "print(2 in a)"
   ]
  },
  {
   "cell_type": "code",
   "execution_count": 3,
   "metadata": {},
   "outputs": [
    {
     "name": "stdout",
     "output_type": "stream",
     "text": [
      "False\n"
     ]
    }
   ],
   "source": [
    "print(11 in a)"
   ]
  },
  {
   "cell_type": "code",
   "execution_count": 4,
   "metadata": {},
   "outputs": [
    {
     "name": "stdout",
     "output_type": "stream",
     "text": [
      "True\n"
     ]
    }
   ],
   "source": [
    "print(12 not in a)"
   ]
  },
  {
   "cell_type": "markdown",
   "metadata": {},
   "source": [
    "# Linear Search"
   ]
  },
  {
   "cell_type": "code",
   "execution_count": 5,
   "metadata": {},
   "outputs": [],
   "source": [
    "def LinearSearch(l, element):\n",
    "    for i in range(len(l)):\n",
    "        if l[i] == element:\n",
    "            return 1\n",
    "    return -1"
   ]
  },
  {
   "cell_type": "code",
   "execution_count": 8,
   "metadata": {},
   "outputs": [
    {
     "name": "stdout",
     "output_type": "stream",
     "text": [
      "Enter a number: 12\n",
      "Search Fail\n"
     ]
    }
   ],
   "source": [
    "n = [11,23,45,3,7,54,99,66]\n",
    "k = int(input(\"Enter a number: \"))\n",
    "\n",
    "x = LinearSearch(n,k)\n",
    "\n",
    "if x==1:\n",
    "    print(\"Search Success\")\n",
    "else:\n",
    "    print(\"Search Fail\")"
   ]
  },
  {
   "cell_type": "markdown",
   "metadata": {},
   "source": [
    "# Binary Search"
   ]
  },
  {
   "cell_type": "code",
   "execution_count": 9,
   "metadata": {},
   "outputs": [
    {
     "name": "stdout",
     "output_type": "stream",
     "text": [
      "Search Success\n"
     ]
    }
   ],
   "source": [
    "#            mid   low         high\n",
    "#    0  1  2  3  4  5  6  7  8  9\n",
    "n = [10,20,30,40,50,60,70,80,90,100]\n",
    "\n",
    "low = 0\n",
    "high = len(n)-1\n",
    "x = 70\n",
    "f = 0\n",
    "#       6    6\n",
    "while (low<=high):\n",
    "    mid = (low+high)//2        # low  = 0, 5, 6\n",
    "    if n[mid]==x:              # high = 9, 6\n",
    "        f = 1\n",
    "        break                  # mid  = 4, 7, 5, 6\n",
    "    elif n[mid]>x:             #  x   = 70\n",
    "        high = mid - 1         #  f   = 0, 1\n",
    "    else:                      #\n",
    "        low = mid + 1\n",
    "        \n",
    "if f == 1:\n",
    "    print(\"Search Success\")\n",
    "else:\n",
    "    print(\"Search Fail\")"
   ]
  },
  {
   "cell_type": "code",
   "execution_count": null,
   "metadata": {},
   "outputs": [],
   "source": []
  },
  {
   "cell_type": "code",
   "execution_count": null,
   "metadata": {},
   "outputs": [],
   "source": []
  }
 ],
 "metadata": {
  "kernelspec": {
   "display_name": "Python 3",
   "language": "python",
   "name": "python3"
  },
  "language_info": {
   "codemirror_mode": {
    "name": "ipython",
    "version": 3
   },
   "file_extension": ".py",
   "mimetype": "text/x-python",
   "name": "python",
   "nbconvert_exporter": "python",
   "pygments_lexer": "ipython3",
   "version": "3.7.6"
  }
 },
 "nbformat": 4,
 "nbformat_minor": 4
}
