{
 "cells": [
  {
   "cell_type": "markdown",
   "metadata": {},
   "source": [
    "# Sorting"
   ]
  },
  {
   "cell_type": "code",
   "execution_count": null,
   "metadata": {},
   "outputs": [],
   "source": [
    "[3,24,5,2]\n",
    "\n",
    "[2,3,5,24]"
   ]
  },
  {
   "cell_type": "markdown",
   "metadata": {},
   "source": [
    "# Bubble Sort"
   ]
  },
  {
   "cell_type": "code",
   "execution_count": 2,
   "metadata": {},
   "outputs": [],
   "source": [
    "#10 j\n",
    "#20 j+1\n",
    "#50\n",
    "#40\n",
    "#30"
   ]
  },
  {
   "cell_type": "code",
   "execution_count": null,
   "metadata": {},
   "outputs": [],
   "source": [
    "a = 10\n",
    "b = 20\n",
    "c = a\n",
    "a = b\n",
    "b = c"
   ]
  },
  {
   "cell_type": "code",
   "execution_count": 3,
   "metadata": {},
   "outputs": [
    {
     "name": "stdout",
     "output_type": "stream",
     "text": [
      "[1, 2, 4, 5, 12, 17, 43, 65]\n"
     ]
    }
   ],
   "source": [
    "n = [12,43,65,17,2,4,1,5]\n",
    "\n",
    "for i in range(len(n)):\n",
    "    for j in range(len(n)-i-1):\n",
    "        if n[j] > n[j+1]:\n",
    "            temp = n[j]\n",
    "            n[j] = n[j+1]\n",
    "            n[j+1] = temp\n",
    "\n",
    "\n",
    "print(n)"
   ]
  },
  {
   "cell_type": "code",
   "execution_count": 4,
   "metadata": {},
   "outputs": [
    {
     "name": "stdout",
     "output_type": "stream",
     "text": [
      "[12, 43, 17, 2, 4, 1, 5, 65]\n"
     ]
    }
   ],
   "source": [
    "n = [12,43,65,17,2,4,1,5]\n",
    "\n",
    "for i in range(len(n)):\n",
    "    for j in range(len(n)-i-1):\n",
    "        if n[j] > n[j+1]:\n",
    "            temp = n[j]\n",
    "            n[j] = n[j+1]\n",
    "            n[j+1] = temp\n",
    "    break\n",
    "\n",
    "print(n)"
   ]
  },
  {
   "cell_type": "markdown",
   "metadata": {},
   "source": [
    "# Selection Sort"
   ]
  },
  {
   "cell_type": "code",
   "execution_count": null,
   "metadata": {},
   "outputs": [],
   "source": [
    "[4,3,5,6,2]\n",
    "[3,4,5,6,2]\n",
    "[2,4,5,6,3]"
   ]
  },
  {
   "cell_type": "code",
   "execution_count": 5,
   "metadata": {},
   "outputs": [
    {
     "name": "stdout",
     "output_type": "stream",
     "text": [
      "[10, 20, 30, 40, 50]\n"
     ]
    }
   ],
   "source": [
    "n = [40,50,10,20,30]\n",
    "#    i         j\n",
    "for i in range(len(n)-1):\n",
    "    m = n[i]                         # m   = 40, 10, 20\n",
    "    loc = i                          # loc = 0, 3\n",
    "    for j in range(i+1,len(n)):      #  i  = 0\n",
    "        if m > n[j]:                 #  j  = 1, 2, 3\n",
    "            m = n[j]\n",
    "            loc = j\n",
    "    \n",
    "    if i!=loc:\n",
    "        temp = n[i]\n",
    "        n[i] = n[loc]\n",
    "        n[loc] = temp\n",
    "        \n",
    "print(n)"
   ]
  },
  {
   "cell_type": "markdown",
   "metadata": {},
   "source": [
    "# Merge Sort"
   ]
  },
  {
   "cell_type": "code",
   "execution_count": 6,
   "metadata": {},
   "outputs": [
    {
     "name": "stdout",
     "output_type": "stream",
     "text": [
      "[10, 20, 30, 40, 50]\n",
      "[5, 15, 19, 25, 41]\n",
      "[5, 10, 15, 19, 20, 25, 30, 40, 41, 50]\n"
     ]
    }
   ],
   "source": [
    "n = [10,20,30,40,50]\n",
    "m = [5,15,19,25,41]\n",
    "\n",
    "l = []\n",
    "\n",
    "i = 0\n",
    "j = 0\n",
    "k = 0\n",
    "\n",
    "while i<5 and j<5:\n",
    "    if n[i]<=m[j]:\n",
    "        l.append(n[i])\n",
    "        i+=1\n",
    "    else:\n",
    "        l.append(m[j])\n",
    "        j+=1\n",
    "\n",
    "\n",
    "while i<5:\n",
    "    l.append(n[i])\n",
    "    i+=1\n",
    "    \n",
    "    \n",
    "while j<5:\n",
    "    l.append(m[j])\n",
    "    j+=1\n",
    "    \n",
    "\n",
    "print(n)\n",
    "print(m)\n",
    "print(l)"
   ]
  },
  {
   "cell_type": "markdown",
   "metadata": {},
   "source": [
    "# Insertion Sort"
   ]
  },
  {
   "cell_type": "code",
   "execution_count": 7,
   "metadata": {},
   "outputs": [
    {
     "name": "stdout",
     "output_type": "stream",
     "text": [
      "[10, 20, 30, 40, 50]\n"
     ]
    }
   ],
   "source": [
    "a = [50,40,10,20,30]\n",
    "#    40 50 50\n",
    "for i in range(1,len(a)):\n",
    "    temp = a[i]\n",
    "    j = i-1\n",
    "    while temp<a[j] and j>=0:         #temp = 40, 10\n",
    "        a[j+1] = a[j]                 # i = 1, 2\n",
    "        j = j-1                       # j = 0, 1\n",
    "                                       \n",
    "    a[j+1] = temp\n",
    "\n",
    "print(a)"
   ]
  },
  {
   "cell_type": "code",
   "execution_count": null,
   "metadata": {},
   "outputs": [],
   "source": []
  }
 ],
 "metadata": {
  "kernelspec": {
   "display_name": "Python 3",
   "language": "python",
   "name": "python3"
  },
  "language_info": {
   "codemirror_mode": {
    "name": "ipython",
    "version": 3
   },
   "file_extension": ".py",
   "mimetype": "text/x-python",
   "name": "python",
   "nbconvert_exporter": "python",
   "pygments_lexer": "ipython3",
   "version": "3.7.6"
  }
 },
 "nbformat": 4,
 "nbformat_minor": 4
}
